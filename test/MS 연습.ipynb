{
 "cells": [
  {
   "cell_type": "code",
   "execution_count": 2,
   "metadata": {},
   "outputs": [],
   "source": [
    "import numpy as np\n",
    "from sklearn.cluster import MeanShift\n",
    "from sklearn.datasets.samples_generator import make_blobs\n",
    "import matplotlib.pyplot as plt"
   ]
  },
  {
   "cell_type": "code",
   "execution_count": 3,
   "metadata": {},
   "outputs": [],
   "source": [
    "centers = [[1,1],[5,5],[3,10]]"
   ]
  },
  {
   "cell_type": "code",
   "execution_count": 4,
   "metadata": {},
   "outputs": [],
   "source": [
    "X, _ = make_blobs(n_samples = 200, centers = centers, cluster_std = 1) #n_sample > 10000 이면 문제 생길 수 있음"
   ]
  },
  {
   "cell_type": "code",
   "execution_count": 5,
   "metadata": {
    "scrolled": false
   },
   "outputs": [
    {
     "data": {
      "image/png": "[encoded data removed]",
      "text/plain": [
       "<Figure size 432x288 with 1 Axes>"
      ]
     },
     "metadata": {
      "needs_background": "light"
     },
     "output_type": "display_data"
    }
   ],
   "source": [
    "plt.scatter(X[:,0], X[:,1])\n",
    "plt.show()"
   ]
  },
  {
   "cell_type": "code",
   "execution_count": 6,
   "metadata": {},
   "outputs": [],
   "source": [
    "ms = MeanShift()\n",
    "ms.fit(X)\n",
    "labels = ms.labels_\n",
    "cluster_centers = ms.cluster_centers_"
   ]
  },
  {
   "cell_type": "code",
   "execution_count": 7,
   "metadata": {},
   "outputs": [
    {
     "name": "stdout",
     "output_type": "stream",
     "text": [
      "[1 2 1 2 2 0 2 1 2 0 1 2 1 2 2 0 1 0 0 0 0 1 2 2 0 2 2 0 0 0 0 2 2 2 2 1 1\n",
      " 0 0 2 1 1 1 0 0 0 0 0 0 1 2 1 1 2 1 0 0 1 0 0 2 2 1 1 0 1 2 1 1 0 1 2 0 0\n",
      " 0 1 0 2 1 2 2 2 2 2 1 2 2 0 1 1 0 0 1 2 2 1 1 0 1 0 0 0 1 0 0 2 2 2 1 1 2\n",
      " 0 2 0 0 0 1 0 0 0 0 1 1 1 0 2 1 0 2 1 1 1 0 0 0 2 0 0 0 1 0 0 1 1 1 1 2 2\n",
      " 1 1 2 2 1 1 0 0 1 1 2 1 1 1 2 2 0 2 0 0 2 2 2 2 0 2 2 1 0 2 0 1 2 1 2 0 2\n",
      " 1 1 2 2 1 0 0 1 1 2 1 1 2 2 2]\n"
     ]
    }
   ],
   "source": [
    "#test\n",
    "y_ms = ms.fit_predict( X )\n",
    "print(y_ms)"
   ]
  },
  {
   "cell_type": "code",
   "execution_count": 34,
   "metadata": {},
   "outputs": [
    {
     "name": "stdout",
     "output_type": "stream",
     "text": [
      "[[1.13752056 0.96209285]\n",
      " [4.85014462 4.97301369]\n",
      " [2.97277962 9.86508784]]\n",
      "Number of estimated clusters: 3\n"
     ]
    }
   ],
   "source": [
    "print(cluster_centers)\n",
    "n_clusters_ = len(np.unique(labels))\n",
    "print(\"Number of estimated clusters:\", n_clusters_)"
   ]
  },
  {
   "cell_type": "code",
   "execution_count": 35,
   "metadata": {},
   "outputs": [
    {
     "name": "stdout",
     "output_type": "stream",
     "text": [
      "['r.', 'g.', 'b.', 'c.', 'k.', 'y.', 'm.', 'r.', 'g.', 'b.', 'c.', 'k.', 'y.', 'm.', 'r.', 'g.', 'b.', 'c.', 'k.', 'y.', 'm.', 'r.', 'g.', 'b.', 'c.', 'k.', 'y.', 'm.', 'r.', 'g.', 'b.', 'c.', 'k.', 'y.', 'm.', 'r.', 'g.', 'b.', 'c.', 'k.', 'y.', 'm.', 'r.', 'g.', 'b.', 'c.', 'k.', 'y.', 'm.', 'r.', 'g.', 'b.', 'c.', 'k.', 'y.', 'm.', 'r.', 'g.', 'b.', 'c.', 'k.', 'y.', 'm.', 'r.', 'g.', 'b.', 'c.', 'k.', 'y.', 'm.']\n",
      "[0 0 1 2 1 0 1 0 0 0 2 0 2 1 2 1 2 1 0 2 0 0 1 1 2 0 2 0 0 0 2 2 0 1 2 2 2\n",
      " 0 1 2 2 0 2 2 0 1 1 2 0 2 1 1 2 2 2 0 1 1 2 0 1 1 1 0 0 0 2 2 2 2 2 1 1 1\n",
      " 1 2 1 0 1 0 2 1 1 2 2 2 1 2 2 2 1 2 2 0 0 2 0 2 0 0 2 1 1 0 2 1 2 0 0 1 1\n",
      " 2 0 1 0 0 2 2 1 2 0 1 0 0 2 1 1 0 1 0 1 0 2 0 0 1 1 1 2 1 0 1 2 0 2 1 0 2\n",
      " 1 0 0 2 1 0 2 0 1 0 2 1 0 2 0 1 1 2 0 0 2 2 0 2 0 1 2 1 2 0 0 2 2 0 0 1 0\n",
      " 1 1 1 2 1 0 1 1 0 1 1 1 1 0 0]\n"
     ]
    }
   ],
   "source": [
    "colors = 10*['r.','g.','b.','c.','k.','y.','m.']\n",
    "print(colors)\n",
    "print(labels)"
   ]
  },
  {
   "cell_type": "code",
   "execution_count": 36,
   "metadata": {},
   "outputs": [
    {
     "data": {
      "text/plain": [
       "<matplotlib.collections.PathCollection at 0x68954e0>"
      ]
     },
     "execution_count": 36,
     "metadata": {},
     "output_type": "execute_result"
    },
    {
     "data": {
      "image/png": "[encoded data removed]",
      "text/plain": [
       "<Figure size 432x288 with 1 Axes>"
      ]
     },
     "metadata": {
      "needs_background": "light"
     },
     "output_type": "display_data"
    }
   ],
   "source": [
    "for i in range(len(X)) :\n",
    "    plt.plot(X[i][0], X[i][1], colors[labels[i]], markersize = 10)\n",
    "\n",
    "plt.scatter(cluster_centers[:,0],cluster_centers[:,1], marker=\"x\", s=150, linewidths=5, zorder=10)"
   ]
  },
  {
   "cell_type": "code",
   "execution_count": 20,
   "metadata": {},
   "outputs": [],
   "source": [
    "plt.show()"
   ]
  },
  {
   "cell_type": "code",
   "execution_count": null,
   "metadata": {},
   "outputs": [],
   "source": []
  }
 ],
 "metadata": {
  "kernelspec": {
   "display_name": "Python 3",
   "language": "python",
   "name": "python3"
  },
  "language_info": {
   "codemirror_mode": {
    "name": "ipython",
    "version": 3
   },
   "file_extension": ".py",
   "mimetype": "text/x-python",
   "name": "python",
   "nbconvert_exporter": "python",
   "pygments_lexer": "ipython3",
   "version": "3.6.7"
  }
 },
 "nbformat": 4,
 "nbformat_minor": 2
}
